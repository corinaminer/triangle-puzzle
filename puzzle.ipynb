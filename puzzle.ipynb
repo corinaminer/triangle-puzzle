{
 "cells": [
  {
   "cell_type": "code",
   "execution_count": null,
   "metadata": {
    "collapsed": false
   },
   "outputs": [],
   "source": [
    "%matplotlib inline\n",
    "import matplotlib.pyplot as plt\n",
    "from Board import Board\n",
    "from Filewriter import Filewriter"
   ]
  },
  {
   "cell_type": "code",
   "execution_count": null,
   "metadata": {
    "collapsed": false
   },
   "outputs": [],
   "source": [
    "fw = Filewriter()"
   ]
  },
  {
   "cell_type": "code",
   "execution_count": null,
   "metadata": {
    "collapsed": true
   },
   "outputs": [],
   "source": [
    "def basicCheck(hexStr):\n",
    "    expect = \"\"\n",
    "    for i in range(10):\n",
    "        expect += str(i)*6\n",
    "    expect += 'aaaaaabbbbbb'\n",
    "    return ''.join(sorted(hexStr.lower())) == expect\n",
    "\n",
    "def getSolution():\n",
    "    hexStr = ''.join(solution.split()) \n",
    "    b.drawBoard([int(c, 12) for c in hexStr])\n",
    "    plt.show()\n",
    "    print(id)\n",
    "    print(discoverer)\n",
    "    print(\"Date: \"+str(date))\n",
    "    if not basicCheck(hexStr):\n",
    "        print(\"WARNING: Did not pass basic check\")\n",
    "    elif raw_input(\"Press enter if good \") == \"\":\n",
    "        fw.addNewSolution(hexStr, discoverer, date, id)"
   ]
  },
  {
   "cell_type": "code",
   "execution_count": null,
   "metadata": {
    "collapsed": false,
    "scrolled": false
   },
   "outputs": [],
   "source": [
    "b = Board() # needs to be in same cell for some reason for board to show up\n",
    "\n",
    "id = 10\n",
    "discoverer = \"Corina Miner\"\n",
    "date = None\n",
    "# date = \"2016-1-26\"\n",
    "# date = \"2018-07-26\"\n",
    "solution = \"\"\"\n",
    "        111\n",
    "       21211\n",
    "      7222200\n",
    "     477770000\n",
    "    4444b7a6666\n",
    "   55548bbaaa366\n",
    "   55588bbbaa333\n",
    "    88899999933\n",
    "    \"\"\"\n",
    "getSolution()"
   ]
  },
  {
   "cell_type": "code",
   "execution_count": null,
   "metadata": {
    "collapsed": true
   },
   "outputs": [],
   "source": []
  }
 ],
 "metadata": {
  "anaconda-cloud": {},
  "kernelspec": {
   "display_name": "Python [Root]",
   "language": "python",
   "name": "Python [Root]"
  },
  "language_info": {
   "codemirror_mode": {
    "name": "ipython",
    "version": 2
   },
   "file_extension": ".py",
   "mimetype": "text/x-python",
   "name": "python",
   "nbconvert_exporter": "python",
   "pygments_lexer": "ipython2",
   "version": "2.7.11"
  }
 },
 "nbformat": 4,
 "nbformat_minor": 0
}
