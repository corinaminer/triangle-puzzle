{
 "cells": [
  {
   "cell_type": "code",
   "execution_count": null,
   "metadata": {
    "collapsed": true
   },
   "outputs": [],
   "source": [
    "# Welcome! Set up your parameters in the next cell, then run both.\n",
    "%matplotlib inline\n",
    "import matplotlib.pyplot as plt\n",
    "import datetime\n",
    "from boardDrawer import Board\n",
    "from handler import Filewriter\n",
    "from verifier import Verifier\n",
    "\n",
    "fw = Filewriter()\n",
    "v = Verifier()\n",
    "    \n",
    "def go():\n",
    "    hex_str = ''.join(solution.lower().split())\n",
    "    if not v.verify_params(id, len(fw.sub_id_maxes), discoverer, fw.discoverers, date, hex_str):\n",
    "        return\n",
    "    b.draw_board([int(c, 12) for c in hex_str])\n",
    "    plt.show()\n",
    "    print(\"ID: \" + str(id))\n",
    "    print(\"Discoverer: \" + discoverer)\n",
    "    print(\"Date: \" + str(date))\n",
    "    if not v.basic_check(hex_str):\n",
    "        print(\"WARNING: Did not pass basic check. Please check over your solution.\")\n",
    "\n",
    "    # If you're running Python 2, change \"input\" to \"raw_input\". Everything else still works.\n",
    "    elif input(\"Press enter if good \") == \"\":\n",
    "        fw.add_new_solution(hex_str, discoverer, date, id)"
   ]
  },
  {
   "cell_type": "code",
   "execution_count": null,
   "metadata": {
    "collapsed": false,
    "scrolled": false
   },
   "outputs": [],
   "source": [
    "b = Board() # needs to be in same cell for some reason for board to show up\n",
    "\n",
    "# If entering a new solution, leave id = None and the next ID will be automatically assigned.\n",
    "# If entering a sister solution to an existing solution, set id to the existing solution's ID.\n",
    "id = None\n",
    "\n",
    "# Enter your name or nickname here :) Can't include commas :( Also, please don't use a name\n",
    "# identical to any someone else has used (check existing names in solutions.csv).\n",
    "discoverer = \"Corina Miner\"\n",
    "\n",
    "# Enter the date in YYYY-MM-DD format. YYYY-M-D is also fine.\n",
    "date = \"2018-8-15\"\n",
    "\n",
    "# Enter your solution here. See README.md for how solutions are encoded. Whitespace is ignored.\n",
    "solution = \"\"\"\n",
    "        77b\n",
    "       977bb\n",
    "      9977bbb\n",
    "     993311100\n",
    "    49333110000\n",
    "   4444232155588\n",
    "   6642222a55588\n",
    "    6666aaaaa88\n",
    "\"\"\"\n",
    "\n",
    "go()"
   ]
  }
 ],
 "metadata": {
  "anaconda-cloud": {},
  "kernelspec": {
   "display_name": "Python [Root]",
   "language": "python",
   "name": "Python [Root]"
  },
  "language_info": {
   "codemirror_mode": {
    "name": "ipython",
    "version": 2
   },
   "file_extension": ".py",
   "mimetype": "text/x-python",
   "name": "python",
   "nbconvert_exporter": "python",
   "pygments_lexer": "ipython2",
   "version": "2.7.11"
  }
 },
 "nbformat": 4,
 "nbformat_minor": 1
}
