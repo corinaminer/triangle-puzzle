{
 "cells": [
  {
   "cell_type": "code",
   "execution_count": null,
   "metadata": {},
   "outputs": [],
   "source": [
    "# Welcome! Set up your parameters in the next cell, then run both.\n",
    "\n",
    "%matplotlib inline\n",
    "import matplotlib.pyplot as plt\n",
    "import datetime\n",
    "from Board import Board\n",
    "from Filewriter import Filewriter\n",
    "from verifier import Verifier\n",
    "\n",
    "fw = Filewriter()\n",
    "v = Verifier()\n",
    "    \n",
    "def go():\n",
    "    hexStr = ''.join(solution.lower().split())\n",
    "    if not v.verifyParams(id, len(fw.subIdMaxes), discoverer, fw.discoverers, date, hexStr):\n",
    "        return\n",
    "    b.drawBoard([int(c, 12) for c in hexStr])\n",
    "    plt.show()\n",
    "    print(\"ID: \"+str(id))\n",
    "    print(\"Discoverer: \"+discoverer)\n",
    "    print(\"Date: \"+str(date))\n",
    "    if not v.basicCheck(hexStr):\n",
    "        print(\"WARNING: Did not pass basic check. Please check over your solution.\")\n",
    "    # If you're running Python 2, change \"input\" to \"raw_input\". Everything else still works.\n",
    "    elif input(\"Press enter if good \") == \"\":\n",
    "        fw.addNewSolution(hexStr, discoverer, date, id)"
   ]
  },
  {
   "cell_type": "code",
   "execution_count": null,
   "metadata": {
    "scrolled": false
   },
   "outputs": [],
   "source": [
    "b = Board() # needs to be in same cell for some reason for board to show up\n",
    "\n",
    "# If entering a new solution, leave id = None and the next ID will be automatically assigned.\n",
    "# If entering a sister solution to an existing solution, set id to the existing solution's ID.\n",
    "id = None\n",
    "\n",
    "# Enter your name or nickname here :) Can't include commas :( Also, please don't use a name\n",
    "# identical to someone else's has used (check existing names in solutions.csv).\n",
    "discoverer = \"Corina Miner\"\n",
    "\n",
    "# Enter the date in YYYY-MM-DD format. YYYY-M-D is also fine.\n",
    "date = \"2018-7-28\"\n",
    "\n",
    "# Enter your solution here. See README.md for how solutions are encoded. Whitespace is ignored.\n",
    "solution = \"\"\"\n",
    "        299\n",
    "       22299\n",
    "      0022399\n",
    "     000033337\n",
    "    55588377774\n",
    "   a5551887b4444\n",
    "   aaa1188bbb466\n",
    "    aa111bb6666\n",
    "    \"\"\"\n",
    "\n",
    "go()"
   ]
  }
 ],
 "metadata": {
  "anaconda-cloud": {},
  "kernelspec": {
   "display_name": "Python 3",
   "language": "python",
   "name": "python3"
  },
  "language_info": {
   "codemirror_mode": {
    "name": "ipython",
    "version": 3
   },
   "file_extension": ".py",
   "mimetype": "text/x-python",
   "name": "python",
   "nbconvert_exporter": "python",
   "pygments_lexer": "ipython3",
   "version": "3.6.4"
  }
 },
 "nbformat": 4,
 "nbformat_minor": 1
}
