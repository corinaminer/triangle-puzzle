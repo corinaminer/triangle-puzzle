{
 "cells": [
  {
   "cell_type": "code",
   "execution_count": null,
   "metadata": {
    "collapsed": false
   },
   "outputs": [],
   "source": [
    "%matplotlib inline\n",
    "# from datetime import date\n",
    "import matplotlib.pyplot as plt\n",
    "# from matplotlib.patches import Polygon\n",
    "from Board import Board\n",
    "from Filewriter import Filewriter"
   ]
  },
  {
   "cell_type": "code",
   "execution_count": null,
   "metadata": {
    "collapsed": true
   },
   "outputs": [],
   "source": [
    "def basicCheck(hexStr):\n",
    "    expect = \"\"\n",
    "    for i in range(10):\n",
    "        expect += str(i)*6\n",
    "    expect += 'aaaaaabbbbbb'\n",
    "    return ''.join(sorted(hexStr.lower())) == expect"
   ]
  },
  {
   "cell_type": "code",
   "execution_count": null,
   "metadata": {
    "collapsed": false
   },
   "outputs": [],
   "source": [
    "fw = Filewriter()"
   ]
  },
  {
   "cell_type": "code",
   "execution_count": null,
   "metadata": {
    "collapsed": false,
    "scrolled": true
   },
   "outputs": [],
   "source": [
    "b = Board() # needs to be in same cell for some reason for board to show up\n",
    "def doIt():\n",
    "    id = 58\n",
    "    discoverer = \"Corina Miner\"\n",
    "    date = None\n",
    "    date = \"2018-7-4\"\n",
    "#     date = \"2018-07-25\"\n",
    "    solution = \"\"\"\n",
    "            111\n",
    "           91133\n",
    "          99b1333\n",
    "         99bbb3888\n",
    "        69222bb0088\n",
    "       667722200008a\n",
    "       6677444555aaa\n",
    "        677444555aa\n",
    "    \"\"\"\n",
    "    hexStr = ''.join(solution.split()) \n",
    "    b.drawBoard([int(c, 12) for c in hexStr])\n",
    "    plt.show()\n",
    "    print(id)\n",
    "    print(discoverer)\n",
    "    print(\"Date: \"+str(date))\n",
    "    if not basicCheck(hexStr):\n",
    "        print(\"WARNING: Did not pass basic check\")\n",
    "    if raw_input(\"Press enter if good \") == \"\":\n",
    "        fw.addNewSolution(hexStr, discoverer, date, id)\n",
    "doIt()"
   ]
  },
  {
   "cell_type": "code",
   "execution_count": null,
   "metadata": {
    "collapsed": true
   },
   "outputs": [],
   "source": []
  }
 ],
 "metadata": {
  "anaconda-cloud": {},
  "kernelspec": {
   "display_name": "Python [Root]",
   "language": "python",
   "name": "Python [Root]"
  },
  "language_info": {
   "codemirror_mode": {
    "name": "ipython",
    "version": 2
   },
   "file_extension": ".py",
   "mimetype": "text/x-python",
   "name": "python",
   "nbconvert_exporter": "python",
   "pygments_lexer": "ipython2",
   "version": "2.7.11"
  }
 },
 "nbformat": 4,
 "nbformat_minor": 0
}
