{
 "cells": [
  {
   "cell_type": "code",
   "execution_count": null,
   "metadata": {},
   "outputs": [],
   "source": [
    "# This notebook contains tools to export images of solutions, which is of limited use but kind of cool\n",
    "%matplotlib inline\n",
    "import matplotlib.pyplot as plt\n",
    "import datetime\n",
    "import os\n",
    "from boardDrawer import Board\n",
    "from handler import Filewriter\n",
    "from verifier import Verifier\n",
    "\n",
    "Board.FIGSIZE = 4\n",
    "fw = Filewriter()\n",
    "v = Verifier()"
   ]
  },
  {
   "cell_type": "code",
   "execution_count": null,
   "metadata": {},
   "outputs": [],
   "source": [
    "def get_plt(sol_obj):\n",
    "    b = Board()\n",
    "    b.draw_board(sol_obj.sol)\n",
    "    return plt\n",
    "\n",
    "def save_sol(sol_obj, save_path):\n",
    "    plt = get_plt(sol_obj)\n",
    "    plt.savefig(save_path, bbox_inches='tight')\n",
    "    plt.close()"
   ]
  },
  {
   "cell_type": "code",
   "execution_count": null,
   "metadata": {},
   "outputs": [],
   "source": [
    "# Does not replace existing files\n",
    "def save_as_pdf(id, sub_id, path):\n",
    "    if not os.path.exists(path):\n",
    "        os.mkdir(path)\n",
    "    save_path = f'{path}/{id}_{sub_id}.pdf'\n",
    "    if not os.path.exists(save_path):\n",
    "        save_sol(fw.id_dict[id][sub_id-1], save_path)\n",
    "\n",
    "def save_all_as_pdfs(dir_path='pdfs'):\n",
    "    if not os.path.exists(dir_path):\n",
    "        os.mkdir(dir_path)\n",
    "    for id in fw.id_dict:\n",
    "        path = f'{dir_path}/{id}'\n",
    "        for sub_id in range(1, fw.sub_id_maxes[id-1]+1):\n",
    "            save_as_pdf(id, sub_id, path)"
   ]
  },
  {
   "cell_type": "code",
   "execution_count": null,
   "metadata": {},
   "outputs": [],
   "source": [
    "save_all_as_pdfs()"
   ]
  },
  {
   "cell_type": "code",
   "execution_count": null,
   "metadata": {},
   "outputs": [],
   "source": []
  }
 ],
 "metadata": {
  "anaconda-cloud": {},
  "kernelspec": {
   "display_name": "Python 3",
   "language": "python",
   "name": "python3"
  },
  "language_info": {
   "codemirror_mode": {
    "name": "ipython",
    "version": 3
   },
   "file_extension": ".py",
   "mimetype": "text/x-python",
   "name": "python",
   "nbconvert_exporter": "python",
   "pygments_lexer": "ipython3",
   "version": "3.7.4"
  }
 },
 "nbformat": 4,
 "nbformat_minor": 1
}
